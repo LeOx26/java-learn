{
    "metadata": {
        "kernelspec": {
            "name": "SQL",
            "display_name": "SQL",
            "language": "sql"
        },
        "language_info": {
            "name": "sql",
            "version": ""
        }
    },
    "nbformat_minor": 2,
    "nbformat": 4,
    "cells": [
        {
            "cell_type": "code",
            "source": [
                "CREATE TABLE pokemons(\r\n",
                "    kdex_id SERIAL PRIMARY KEY,\r\n",
                "    pokemon VARCHAR(50) NOT NULL,\r\n",
                "    altura VARCHAR(50)NOT NULL,\r\n",
                "    peso VARCHAR(50) NOT NULL,\r\n",
                "    categoria VARCHAR(50) NOT NULL\r\n",
                ")"
            ],
            "metadata": {
                "language": "sql",
                "azdata_cell_guid": "6accfe75-ae2f-420a-bef0-e372d9eafac5",
                "tags": []
            },
            "outputs": [
                {
                    "output_type": "display_data",
                    "data": {
                        "text/html": "Commands completed successfully"
                    },
                    "metadata": {}
                },
                {
                    "output_type": "display_data",
                    "data": {
                        "text/html": "Total execution time: 00:00:00.024"
                    },
                    "metadata": {}
                }
            ],
            "execution_count": 1
        },
        {
            "cell_type": "code",
            "source": [
                "INSERT INTO pokemons(\r\n",
                "    kdex_id, pokemon, altura, peso, categoria\r\n",
                ")\r\n",
                " VALUES\r\n",
                "  (001, 'Bulbasaur', '0,7m', '6,9kg', 'Semilla'),\r\n",
                "  (002, 'Ivysaur', '1,0m', '13,0kg', 'Semilla')"
            ],
            "metadata": {
                "language": "sql",
                "azdata_cell_guid": "840edb96-344b-4110-8e24-cc192199efec",
                "tags": []
            },
            "outputs": [
                {
                    "output_type": "display_data",
                    "data": {
                        "text/html": "Commands completed successfully"
                    },
                    "metadata": {}
                },
                {
                    "output_type": "display_data",
                    "data": {
                        "text/html": "Total execution time: 00:00:00.013"
                    },
                    "metadata": {}
                }
            ],
            "execution_count": 2
        },
        {
            "cell_type": "code",
            "source": [
                "SELECT * FROM pokemons\n",
                ""
            ],
            "metadata": {
                "language": "sql",
                "azdata_cell_guid": "99cfe864-4486-45ae-8abc-8e81742bed5b"
            },
            "outputs": [
                {
                    "output_type": "display_data",
                    "data": {
                        "text/html": "(4 row(s) affected)"
                    },
                    "metadata": {}
                },
                {
                    "output_type": "display_data",
                    "data": {
                        "text/html": "Total execution time: 00:00:00.001"
                    },
                    "metadata": {}
                },
                {
                    "output_type": "execute_result",
                    "metadata": {},
                    "execution_count": 15,
                    "data": {
                        "application/vnd.dataresource+json": {
                            "schema": {
                                "fields": [
                                    {
                                        "name": "kdex_id"
                                    },
                                    {
                                        "name": "pokemon"
                                    },
                                    {
                                        "name": "altura"
                                    },
                                    {
                                        "name": "peso"
                                    },
                                    {
                                        "name": "categoria"
                                    }
                                ]
                            },
                            "data": [
                                {
                                    "0": "1",
                                    "1": "Bulbasaur",
                                    "2": "0,7m",
                                    "3": "6,9kg",
                                    "4": "Semilla"
                                },
                                {
                                    "0": "2",
                                    "1": "Ivysaur",
                                    "2": "1,0m",
                                    "3": "13,0kg",
                                    "4": "Semilla"
                                },
                                {
                                    "0": "3",
                                    "1": "Venusaur",
                                    "2": "2,0m",
                                    "3": "100,0kg",
                                    "4": "Semilla"
                                },
                                {
                                    "0": "4",
                                    "1": "Charmander",
                                    "2": "0,6m",
                                    "3": "8,5kg",
                                    "4": "Lagartija"
                                }
                            ]
                        },
                        "text/html": [
                            "<table>",
                            "<tr><th>kdex_id</th><th>pokemon</th><th>altura</th><th>peso</th><th>categoria</th></tr>",
                            "<tr><td>1</td><td>Bulbasaur</td><td>0,7m</td><td>6,9kg</td><td>Semilla</td></tr>",
                            "<tr><td>2</td><td>Ivysaur</td><td>1,0m</td><td>13,0kg</td><td>Semilla</td></tr>",
                            "<tr><td>3</td><td>Venusaur</td><td>2,0m</td><td>100,0kg</td><td>Semilla</td></tr>",
                            "<tr><td>4</td><td>Charmander</td><td>0,6m</td><td>8,5kg</td><td>Lagartija</td></tr>",
                            "</table>"
                        ]
                    }
                }
            ],
            "execution_count": 15
        }
    ]
}