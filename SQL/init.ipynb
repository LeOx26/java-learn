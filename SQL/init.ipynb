{
    "metadata": {
        "kernelspec": {
            "name": "SQL",
            "display_name": "SQL",
            "language": "sql"
        },
        "language_info": {
            "name": "sql",
            "version": ""
        }
    },
    "nbformat_minor": 2,
    "nbformat": 4,
    "cells": [
        {
            "cell_type": "code",
            "source": [
                "ALTER DATABASE pokemon RENAME TO pokedex"
            ],
            "metadata": {
                "azdata_cell_guid": "5e097fb2-66e4-47e0-ba54-0085ee1cea00",
                "language": "sql"
            },
            "outputs": [
                {
                    "output_type": "error",
                    "ename": "",
                    "evalue": "database \"pokemon\" does not exist",
                    "traceback": []
                },
                {
                    "output_type": "display_data",
                    "data": {
                        "text/html": "Total execution time: 00:00:00.004"
                    },
                    "metadata": {}
                }
            ],
            "execution_count": 2
        },
        {
            "cell_type": "code",
            "source": [
                "DROP table pokemons"
            ],
            "metadata": {
                "language": "sql",
                "azdata_cell_guid": "8125ea9d-a266-444c-a838-11ce8c99d1d6"
            },
            "outputs": [
                {
                    "output_type": "error",
                    "ename": "",
                    "evalue": "table \"pokemons\" does not exist",
                    "traceback": []
                },
                {
                    "output_type": "display_data",
                    "data": {
                        "text/html": "Total execution time: 00:00:00.003"
                    },
                    "metadata": {}
                }
            ],
            "execution_count": 16
        },
        {
            "cell_type": "code",
            "source": [
                "CREATE TABLE pokemons(\r\n",
                "    kdex_id SERIAL PRIMARY KEY,\r\n",
                "    pokemon VARCHAR(50) NOT NULL,\r\n",
                "    altura VARCHAR(50)NOT NULL,\r\n",
                "    peso VARCHAR(50) NOT NULL,\r\n",
                "    categoria VARCHAR(50) NOT NULL\r\n",
                ")"
            ],
            "metadata": {
                "language": "sql",
                "azdata_cell_guid": "6accfe75-ae2f-420a-bef0-e372d9eafac5",
                "tags": []
            },
            "outputs": [
                {
                    "output_type": "display_data",
                    "data": {
                        "text/html": "Commands completed successfully"
                    },
                    "metadata": {}
                },
                {
                    "output_type": "display_data",
                    "data": {
                        "text/html": "Total execution time: 00:00:00.055"
                    },
                    "metadata": {}
                }
            ],
            "execution_count": 17
        },
        {
            "cell_type": "code",
            "source": [
                "INSERT INTO pokemons(\r\n",
                "    kdex_id, pokemon, altura, peso, categoria\r\n",
                ")\r\n",
                " VALUES\r\n",
                "  (001, 'Bulbasaur', '0,7m', '6,9kg', 'Semilla'),\r\n",
                "  (002, 'Ivysaur', '1,0m', '13,0kg', 'Semilla')"
            ],
            "metadata": {
                "language": "sql",
                "azdata_cell_guid": "840edb96-344b-4110-8e24-cc192199efec",
                "tags": []
            },
            "outputs": [
                {
                    "output_type": "error",
                    "ename": "",
                    "evalue": "duplicate key value violates unique constraint \"pokemons_pkey\"",
                    "traceback": []
                },
                {
                    "output_type": "display_data",
                    "data": {
                        "text/html": "Total execution time: 00:00:00.099"
                    },
                    "metadata": {}
                }
            ],
            "execution_count": 2
        },
        {
            "cell_type": "code",
            "source": [
                "SELECT * FROM pokemons\n",
                ""
            ],
            "metadata": {
                "language": "sql",
                "azdata_cell_guid": "99cfe864-4486-45ae-8abc-8e81742bed5b"
            },
            "outputs": [
                {
                    "output_type": "display_data",
                    "data": {
                        "text/html": "(2 row(s) affected)"
                    },
                    "metadata": {}
                },
                {
                    "output_type": "display_data",
                    "data": {
                        "text/html": "Total execution time: 00:00:00.007"
                    },
                    "metadata": {}
                },
                {
                    "output_type": "execute_result",
                    "execution_count": 1,
                    "data": {
                        "application/vnd.dataresource+json": {
                            "schema": {
                                "fields": [
                                    {
                                        "name": "kdex_id"
                                    },
                                    {
                                        "name": "pokemon"
                                    },
                                    {
                                        "name": "altura"
                                    },
                                    {
                                        "name": "peso"
                                    },
                                    {
                                        "name": "categoria"
                                    }
                                ]
                            },
                            "data": [
                                {
                                    "0": "1",
                                    "1": "Bulbasaur",
                                    "2": "0,7m",
                                    "3": "6,9kg",
                                    "4": "Semilla"
                                },
                                {
                                    "0": "2",
                                    "1": "Ivysaur",
                                    "2": "1,0m",
                                    "3": "13,0kg",
                                    "4": "Semilla"
                                }
                            ]
                        },
                        "text/html": "<table><tr><th>kdex_id</th><th>pokemon</th><th>altura</th><th>peso</th><th>categoria</th></tr><tr><td>1</td><td>Bulbasaur</td><td>0,7m</td><td>6,9kg</td><td>Semilla</td></tr><tr><td>2</td><td>Ivysaur</td><td>1,0m</td><td>13,0kg</td><td>Semilla</td></tr></table>"
                    },
                    "metadata": {}
                }
            ],
            "execution_count": 1
        }
    ]
}